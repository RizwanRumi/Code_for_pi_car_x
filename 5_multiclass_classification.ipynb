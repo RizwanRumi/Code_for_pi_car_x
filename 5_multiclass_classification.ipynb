{
 "cells": [
  {
   "cell_type": "code",
   "execution_count": 1,
   "id": "1dff4a03-4c44-4e3d-87eb-24fcd975ae34",
   "metadata": {
    "scrolled": true
   },
   "outputs": [],
   "source": [
    "import numpy as np\n",
    "import matplotlib.pyplot as plt\n",
    "from sklearn import datasets\n",
    "import keras\n",
    "from keras.models import Sequential\n",
    "from keras.layers import Dense\n",
    "from tensorflow.keras.optimizers import Adam\n",
    "from keras.utils.np_utils import to_categorical\n",
    "%matplotlib inline"
   ]
  },
  {
   "cell_type": "code",
   "execution_count": 2,
   "id": "e25148a8-4790-4d2b-84af-8c219e124b09",
   "metadata": {},
   "outputs": [],
   "source": [
    "np.random.seed(0)"
   ]
  },
  {
   "cell_type": "code",
   "execution_count": 3,
   "id": "15515a2a-8a16-4df6-933f-36bd46b14aba",
   "metadata": {},
   "outputs": [],
   "source": [
    "n_pts = 500\n",
    "centers = [[-1, 1], [-1, -1], [1, -1]]\n",
    "X, y = datasets.make_blobs(n_samples=n_pts, random_state=123, centers=centers, cluster_std=0.4)"
   ]
  },
  {
   "cell_type": "code",
   "execution_count": 4,
   "id": "1914931c-daa3-44a6-a0dc-a199ec0b6735",
   "metadata": {},
   "outputs": [
    {
     "data": {
      "text/plain": [
       "<matplotlib.collections.PathCollection at 0x233b1373430>"
      ]
     },
     "execution_count": 4,
     "metadata": {},
     "output_type": "execute_result"
    },
    {
     "data": {
      "image/png": "[encoded data removed]",
      "text/plain": [
       "<Figure size 432x288 with 1 Axes>"
      ]
     },
     "metadata": {
      "needs_background": "light"
     },
     "output_type": "display_data"
    }
   ],
   "source": [
    "plt.scatter(X[y==0, 0], X[y==0, 1])\n",
    "plt.scatter(X[y==1, 0], X[y==1, 1])\n",
    "plt.scatter(X[y==2, 0], X[y==2, 1])"
   ]
  },
  {
   "cell_type": "code",
   "execution_count": 5,
   "id": "3db2e720-3f0a-4610-b2f9-9adfb4d1d38c",
   "metadata": {},
   "outputs": [
    {
     "name": "stdout",
     "output_type": "stream",
     "text": [
      "[[0. 0. 1.]\n",
      " [0. 0. 1.]\n",
      " [0. 0. 1.]\n",
      " ...\n",
      " [0. 1. 0.]\n",
      " [0. 1. 0.]\n",
      " [1. 0. 0.]]\n"
     ]
    }
   ],
   "source": [
    "# apply one hot encoding\n",
    "y_cat = to_categorical(y, 3)\n",
    "print(y_cat)"
   ]
  },
  {
   "cell_type": "code",
   "execution_count": 6,
   "id": "9d85a249-a168-4341-8f80-4624f6fc85cd",
   "metadata": {},
   "outputs": [],
   "source": [
    "model = Sequential()\n",
    "model.add(Dense(units=3, input_shape=(2,), activation='softmax'))\n",
    "model.compile(Adam(learning_rate=0.1), loss='categorical_crossentropy', metrics=['accuracy'])"
   ]
  },
  {
   "cell_type": "code",
   "execution_count": 7,
   "id": "c15cb3eb-ce7f-45b1-8016-a02e8a4aac26",
   "metadata": {},
   "outputs": [
    {
     "name": "stdout",
     "output_type": "stream",
     "text": [
      "Epoch 1/100\n",
      "10/10 [==============================] - 0s 2ms/step - loss: 0.6659 - accuracy: 0.7700\n",
      "Epoch 2/100\n",
      "10/10 [==============================] - 0s 3ms/step - loss: 0.2140 - accuracy: 0.9800\n",
      "Epoch 3/100\n",
      "10/10 [==============================] - 0s 3ms/step - loss: 0.1121 - accuracy: 0.9860\n",
      "Epoch 4/100\n",
      "10/10 [==============================] - 0s 3ms/step - loss: 0.0842 - accuracy: 0.9860\n",
      "Epoch 5/100\n",
      "10/10 [==============================] - 0s 2ms/step - loss: 0.0708 - accuracy: 0.9880\n",
      "Epoch 6/100\n",
      "10/10 [==============================] - 0s 2ms/step - loss: 0.0634 - accuracy: 0.9880\n",
      "Epoch 7/100\n",
      "10/10 [==============================] - 0s 2ms/step - loss: 0.0586 - accuracy: 0.9880\n",
      "Epoch 8/100\n",
      "10/10 [==============================] - 0s 2ms/step - loss: 0.0549 - accuracy: 0.9880\n",
      "Epoch 9/100\n",
      "10/10 [==============================] - 0s 2ms/step - loss: 0.0523 - accuracy: 0.9880\n",
      "Epoch 10/100\n",
      "10/10 [==============================] - 0s 2ms/step - loss: 0.0495 - accuracy: 0.9880\n",
      "Epoch 11/100\n",
      "10/10 [==============================] - 0s 2ms/step - loss: 0.0479 - accuracy: 0.9880\n",
      "Epoch 12/100\n",
      "10/10 [==============================] - 0s 2ms/step - loss: 0.0461 - accuracy: 0.9880\n",
      "Epoch 13/100\n",
      "10/10 [==============================] - 0s 2ms/step - loss: 0.0444 - accuracy: 0.9880\n",
      "Epoch 14/100\n",
      "10/10 [==============================] - 0s 2ms/step - loss: 0.0431 - accuracy: 0.9880\n",
      "Epoch 15/100\n",
      "10/10 [==============================] - 0s 2ms/step - loss: 0.0422 - accuracy: 0.9880\n",
      "Epoch 16/100\n",
      "10/10 [==============================] - 0s 2ms/step - loss: 0.0406 - accuracy: 0.9880\n",
      "Epoch 17/100\n",
      "10/10 [==============================] - 0s 2ms/step - loss: 0.0400 - accuracy: 0.9880\n",
      "Epoch 18/100\n",
      "10/10 [==============================] - 0s 2ms/step - loss: 0.0389 - accuracy: 0.9880\n",
      "Epoch 19/100\n",
      "10/10 [==============================] - 0s 2ms/step - loss: 0.0381 - accuracy: 0.9880\n",
      "Epoch 20/100\n",
      "10/10 [==============================] - 0s 2ms/step - loss: 0.0375 - accuracy: 0.9900\n",
      "Epoch 21/100\n",
      "10/10 [==============================] - 0s 2ms/step - loss: 0.0370 - accuracy: 0.9900\n",
      "Epoch 22/100\n",
      "10/10 [==============================] - 0s 3ms/step - loss: 0.0364 - accuracy: 0.9900\n",
      "Epoch 23/100\n",
      "10/10 [==============================] - 0s 3ms/step - loss: 0.0356 - accuracy: 0.9880\n",
      "Epoch 24/100\n",
      "10/10 [==============================] - 0s 3ms/step - loss: 0.0351 - accuracy: 0.9880\n",
      "Epoch 25/100\n",
      "10/10 [==============================] - 0s 2ms/step - loss: 0.0344 - accuracy: 0.9900\n",
      "Epoch 26/100\n",
      "10/10 [==============================] - 0s 3ms/step - loss: 0.0341 - accuracy: 0.9900\n",
      "Epoch 27/100\n",
      "10/10 [==============================] - 0s 2ms/step - loss: 0.0335 - accuracy: 0.9900\n",
      "Epoch 28/100\n",
      "10/10 [==============================] - 0s 2ms/step - loss: 0.0333 - accuracy: 0.9900\n",
      "Epoch 29/100\n",
      "10/10 [==============================] - 0s 2ms/step - loss: 0.0329 - accuracy: 0.9900\n",
      "Epoch 30/100\n",
      "10/10 [==============================] - 0s 2ms/step - loss: 0.0329 - accuracy: 0.9900\n",
      "Epoch 31/100\n",
      "10/10 [==============================] - 0s 3ms/step - loss: 0.0322 - accuracy: 0.9900\n",
      "Epoch 32/100\n",
      "10/10 [==============================] - 0s 2ms/step - loss: 0.0326 - accuracy: 0.9880\n",
      "Epoch 33/100\n",
      "10/10 [==============================] - 0s 2ms/step - loss: 0.0318 - accuracy: 0.9880\n",
      "Epoch 34/100\n",
      "10/10 [==============================] - 0s 2ms/step - loss: 0.0323 - accuracy: 0.9900\n",
      "Epoch 35/100\n",
      "10/10 [==============================] - 0s 2ms/step - loss: 0.0309 - accuracy: 0.9900\n",
      "Epoch 36/100\n",
      "10/10 [==============================] - 0s 2ms/step - loss: 0.0307 - accuracy: 0.9900\n",
      "Epoch 37/100\n",
      "10/10 [==============================] - 0s 2ms/step - loss: 0.0305 - accuracy: 0.9900\n",
      "Epoch 38/100\n",
      "10/10 [==============================] - 0s 2ms/step - loss: 0.0304 - accuracy: 0.9900\n",
      "Epoch 39/100\n",
      "10/10 [==============================] - ETA: 0s - loss: 0.0083 - accuracy: 1.00 - 0s 3ms/step - loss: 0.0301 - accuracy: 0.9900\n",
      "Epoch 40/100\n",
      "10/10 [==============================] - 0s 5ms/step - loss: 0.0300 - accuracy: 0.9900\n",
      "Epoch 41/100\n",
      "10/10 [==============================] - 0s 3ms/step - loss: 0.0301 - accuracy: 0.9900\n",
      "Epoch 42/100\n",
      "10/10 [==============================] - 0s 3ms/step - loss: 0.0299 - accuracy: 0.9900\n",
      "Epoch 43/100\n",
      "10/10 [==============================] - 0s 3ms/step - loss: 0.0297 - accuracy: 0.9900\n",
      "Epoch 44/100\n",
      "10/10 [==============================] - 0s 3ms/step - loss: 0.0292 - accuracy: 0.9900\n",
      "Epoch 45/100\n",
      "10/10 [==============================] - 0s 2ms/step - loss: 0.0292 - accuracy: 0.9900\n",
      "Epoch 46/100\n",
      "10/10 [==============================] - 0s 2ms/step - loss: 0.0293 - accuracy: 0.9900\n",
      "Epoch 47/100\n",
      "10/10 [==============================] - 0s 2ms/step - loss: 0.0288 - accuracy: 0.9900\n",
      "Epoch 48/100\n",
      "10/10 [==============================] - 0s 2ms/step - loss: 0.0290 - accuracy: 0.9900\n",
      "Epoch 49/100\n",
      "10/10 [==============================] - 0s 2ms/step - loss: 0.0290 - accuracy: 0.9900\n",
      "Epoch 50/100\n",
      "10/10 [==============================] - 0s 2ms/step - loss: 0.0286 - accuracy: 0.9900\n",
      "Epoch 51/100\n",
      "10/10 [==============================] - 0s 2ms/step - loss: 0.0281 - accuracy: 0.9900\n",
      "Epoch 52/100\n",
      "10/10 [==============================] - 0s 2ms/step - loss: 0.0280 - accuracy: 0.9900\n",
      "Epoch 53/100\n",
      "10/10 [==============================] - 0s 2ms/step - loss: 0.0279 - accuracy: 0.9900\n",
      "Epoch 54/100\n",
      "10/10 [==============================] - 0s 3ms/step - loss: 0.0282 - accuracy: 0.9900\n",
      "Epoch 55/100\n",
      "10/10 [==============================] - 0s 2ms/step - loss: 0.0278 - accuracy: 0.9900\n",
      "Epoch 56/100\n",
      "10/10 [==============================] - 0s 3ms/step - loss: 0.0278 - accuracy: 0.9900\n",
      "Epoch 57/100\n",
      "10/10 [==============================] - 0s 2ms/step - loss: 0.0279 - accuracy: 0.9900\n",
      "Epoch 58/100\n",
      "10/10 [==============================] - 0s 2ms/step - loss: 0.0278 - accuracy: 0.9900\n",
      "Epoch 59/100\n",
      "10/10 [==============================] - 0s 2ms/step - loss: 0.0273 - accuracy: 0.9900\n",
      "Epoch 60/100\n",
      "10/10 [==============================] - 0s 3ms/step - loss: 0.0272 - accuracy: 0.9900\n",
      "Epoch 61/100\n",
      "10/10 [==============================] - 0s 2ms/step - loss: 0.0274 - accuracy: 0.9900\n",
      "Epoch 62/100\n",
      "10/10 [==============================] - 0s 2ms/step - loss: 0.0276 - accuracy: 0.9900\n",
      "Epoch 63/100\n",
      "10/10 [==============================] - 0s 2ms/step - loss: 0.0271 - accuracy: 0.9900\n",
      "Epoch 64/100\n",
      "10/10 [==============================] - 0s 2ms/step - loss: 0.0268 - accuracy: 0.9900\n",
      "Epoch 65/100\n",
      "10/10 [==============================] - 0s 2ms/step - loss: 0.0272 - accuracy: 0.9900\n",
      "Epoch 66/100\n",
      "10/10 [==============================] - 0s 2ms/step - loss: 0.0269 - accuracy: 0.9900\n",
      "Epoch 67/100\n",
      "10/10 [==============================] - 0s 2ms/step - loss: 0.0270 - accuracy: 0.9900\n",
      "Epoch 68/100\n",
      "10/10 [==============================] - 0s 2ms/step - loss: 0.0275 - accuracy: 0.9900\n",
      "Epoch 69/100\n",
      "10/10 [==============================] - 0s 2ms/step - loss: 0.0264 - accuracy: 0.9900\n",
      "Epoch 70/100\n",
      "10/10 [==============================] - 0s 2ms/step - loss: 0.0266 - accuracy: 0.9900\n",
      "Epoch 71/100\n",
      "10/10 [==============================] - 0s 2ms/step - loss: 0.0264 - accuracy: 0.9900\n",
      "Epoch 72/100\n",
      "10/10 [==============================] - 0s 2ms/step - loss: 0.0263 - accuracy: 0.9900\n",
      "Epoch 73/100\n",
      "10/10 [==============================] - 0s 2ms/step - loss: 0.0266 - accuracy: 0.9900\n",
      "Epoch 74/100\n",
      "10/10 [==============================] - 0s 2ms/step - loss: 0.0262 - accuracy: 0.9900\n",
      "Epoch 75/100\n",
      "10/10 [==============================] - 0s 2ms/step - loss: 0.0262 - accuracy: 0.9900\n",
      "Epoch 76/100\n",
      "10/10 [==============================] - 0s 2ms/step - loss: 0.0264 - accuracy: 0.9900\n",
      "Epoch 77/100\n",
      "10/10 [==============================] - 0s 2ms/step - loss: 0.0261 - accuracy: 0.9900\n",
      "Epoch 78/100\n",
      "10/10 [==============================] - 0s 2ms/step - loss: 0.0263 - accuracy: 0.9900\n",
      "Epoch 79/100\n",
      "10/10 [==============================] - 0s 2ms/step - loss: 0.0259 - accuracy: 0.9900\n",
      "Epoch 80/100\n",
      "10/10 [==============================] - 0s 2ms/step - loss: 0.0256 - accuracy: 0.9900\n",
      "Epoch 81/100\n",
      "10/10 [==============================] - 0s 3ms/step - loss: 0.0264 - accuracy: 0.9900\n",
      "Epoch 82/100\n"
     ]
    },
    {
     "name": "stdout",
     "output_type": "stream",
     "text": [
      "10/10 [==============================] - 0s 2ms/step - loss: 0.0262 - accuracy: 0.9900\n",
      "Epoch 83/100\n",
      "10/10 [==============================] - 0s 2ms/step - loss: 0.0258 - accuracy: 0.9900\n",
      "Epoch 84/100\n",
      "10/10 [==============================] - 0s 2ms/step - loss: 0.0261 - accuracy: 0.9900\n",
      "Epoch 85/100\n",
      "10/10 [==============================] - 0s 1ms/step - loss: 0.0256 - accuracy: 0.9900\n",
      "Epoch 86/100\n",
      "10/10 [==============================] - 0s 2ms/step - loss: 0.0261 - accuracy: 0.9900\n",
      "Epoch 87/100\n",
      "10/10 [==============================] - 0s 2ms/step - loss: 0.0254 - accuracy: 0.9920\n",
      "Epoch 88/100\n",
      "10/10 [==============================] - 0s 2ms/step - loss: 0.0261 - accuracy: 0.9900\n",
      "Epoch 89/100\n",
      "10/10 [==============================] - 0s 2ms/step - loss: 0.0257 - accuracy: 0.9900\n",
      "Epoch 90/100\n",
      "10/10 [==============================] - 0s 2ms/step - loss: 0.0257 - accuracy: 0.9900\n",
      "Epoch 91/100\n",
      "10/10 [==============================] - 0s 2ms/step - loss: 0.0254 - accuracy: 0.9900\n",
      "Epoch 92/100\n",
      "10/10 [==============================] - 0s 2ms/step - loss: 0.0252 - accuracy: 0.9900\n",
      "Epoch 93/100\n",
      "10/10 [==============================] - 0s 2ms/step - loss: 0.0254 - accuracy: 0.9900\n",
      "Epoch 94/100\n",
      "10/10 [==============================] - 0s 2ms/step - loss: 0.0256 - accuracy: 0.9900\n",
      "Epoch 95/100\n",
      "10/10 [==============================] - 0s 2ms/step - loss: 0.0260 - accuracy: 0.9900\n",
      "Epoch 96/100\n",
      "10/10 [==============================] - 0s 2ms/step - loss: 0.0254 - accuracy: 0.9900\n",
      "Epoch 97/100\n",
      "10/10 [==============================] - 0s 2ms/step - loss: 0.0253 - accuracy: 0.9900\n",
      "Epoch 98/100\n",
      "10/10 [==============================] - 0s 2ms/step - loss: 0.0249 - accuracy: 0.9900\n",
      "Epoch 99/100\n",
      "10/10 [==============================] - 0s 2ms/step - loss: 0.0251 - accuracy: 0.9900\n",
      "Epoch 100/100\n",
      "10/10 [==============================] - 0s 2ms/step - loss: 0.0250 - accuracy: 0.9900\n"
     ]
    }
   ],
   "source": [
    "h = model.fit(x=X, y=y_cat, verbose=1, batch_size=50, epochs= 100, shuffle=True)"
   ]
  },
  {
   "cell_type": "code",
   "execution_count": 8,
   "id": "f3537315-a51a-4618-b9de-20e97ee9ac80",
   "metadata": {},
   "outputs": [
    {
     "data": {
      "text/plain": [
       "Text(0.5, 0, 'epoch')"
      ]
     },
     "execution_count": 8,
     "metadata": {},
     "output_type": "execute_result"
    },
    {
     "data": {
      "image/png": "[encoded data removed]",
      "text/plain": [
       "<Figure size 432x288 with 1 Axes>"
      ]
     },
     "metadata": {
      "needs_background": "light"
     },
     "output_type": "display_data"
    }
   ],
   "source": [
    "\n",
    "\n",
    "plt.plot(h.history['loss'])\n",
    "plt.legend(['loss'])\n",
    "plt.title('loss')\n",
    "plt.xlabel('epoch')"
   ]
  },
  {
   "cell_type": "code",
   "execution_count": 9,
   "id": "8d679b60-baf0-49cb-974e-cb909e4dda23",
   "metadata": {},
   "outputs": [
    {
     "data": {
      "text/plain": [
       "Text(0.5, 0, 'epoch')"
      ]
     },
     "execution_count": 9,
     "metadata": {},
     "output_type": "execute_result"
    },
    {
     "data": {
      "image/png": "[encoded data removed]",
      "text/plain": [
       "<Figure size 432x288 with 1 Axes>"
      ]
     },
     "metadata": {
      "needs_background": "light"
     },
     "output_type": "display_data"
    }
   ],
   "source": [
    "plt.plot(h.history['accuracy'])\n",
    "plt.legend(['accuracy'])\n",
    "plt.ylabel('accuracy')\n",
    "plt.xlabel('epoch')"
   ]
  },
  {
   "cell_type": "code",
   "execution_count": 10,
   "id": "2b85ec82-1d6e-4532-ad68-2ae9ef52aab2",
   "metadata": {},
   "outputs": [],
   "source": [
    "def plot_multiclass_decision_boundary(X, y, model):\n",
    "    x_span = np.linspace(min(X[:, 0]) -1, max(X[:, 0]) + 1)\n",
    "    y_span = np.linspace(min(X[:, 1]) -1, max(X[:, 1]) + 1)\n",
    "    xx, yy = np.meshgrid(x_span, y_span)\n",
    "    grid = np.c_[xx.ravel(), yy.ravel()]\n",
    "    pred_x = model.predict(grid)\n",
    "    pred_func = np.argmax(pred_x, axis=1)\n",
    "    z = pred_func.reshape(xx.shape)\n",
    "    plt.contourf(xx, yy, z)"
   ]
  },
  {
   "cell_type": "code",
   "execution_count": 11,
   "id": "51999d08-0b55-4ea1-b697-241313044905",
   "metadata": {},
   "outputs": [
    {
     "data": {
      "text/plain": [
       "<matplotlib.collections.PathCollection at 0x233b2936d00>"
      ]
     },
     "execution_count": 11,
     "metadata": {},
     "output_type": "execute_result"
    },
    {
     "data": {
      "image/png": "[encoded data removed]",
      "text/plain": [
       "<Figure size 432x288 with 1 Axes>"
      ]
     },
     "metadata": {
      "needs_background": "light"
     },
     "output_type": "display_data"
    }
   ],
   "source": [
    "plot_multiclass_decision_boundary(X, y_cat, model)\n",
    "plt.scatter(X[y==0, 0], X[y==0, 1])\n",
    "plt.scatter(X[y==1, 0], X[y==1, 1])\n",
    "plt.scatter(X[y==2, 0], X[y==2, 1])"
   ]
  },
  {
   "cell_type": "code",
   "execution_count": 12,
   "id": "dc88b63d-0061-4f60-a2a7-009b8c5bda1b",
   "metadata": {},
   "outputs": [
    {
     "name": "stdout",
     "output_type": "stream",
     "text": [
      "Prediction is:  [[0.01402711 0.9768761  0.00909682]]\n"
     ]
    },
    {
     "data": {
      "image/png": "[encoded data removed]",
      "text/plain": [
       "<Figure size 432x288 with 1 Axes>"
      ]
     },
     "metadata": {
      "needs_background": "light"
     },
     "output_type": "display_data"
    }
   ],
   "source": [
    "plot_multiclass_decision_boundary(X, y_cat, model)\n",
    "plt.scatter(X[y==0, 0], X[y==0, 1])\n",
    "plt.scatter(X[y==1, 0], X[y==1, 1])\n",
    "plt.scatter(X[y==2, 0], X[y==2, 1])\n",
    "\n",
    "x = -0.5\n",
    "y = -0.5\n",
    " \n",
    "point = np.array([[x, y]])\n",
    "prediction = model.predict(point)\n",
    "plt.plot([x], [y], marker='o', markersize=10, color=\"yellow\")\n",
    "print(\"Prediction is: \", prediction)"
   ]
  }
 ],
 "metadata": {
  "kernelspec": {
   "display_name": "ANN",
   "language": "python",
   "name": "ann"
  },
  "language_info": {
   "codemirror_mode": {
    "name": "ipython",
    "version": 3
   },
   "file_extension": ".py",
   "mimetype": "text/x-python",
   "name": "python",
   "nbconvert_exporter": "python",
   "pygments_lexer": "ipython3",
   "version": "3.9.0"
  }
 },
 "nbformat": 4,
 "nbformat_minor": 5
}
